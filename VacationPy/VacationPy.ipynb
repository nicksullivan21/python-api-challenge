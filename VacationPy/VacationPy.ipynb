{
 "metadata": {
  "language_info": {
   "codemirror_mode": {
    "name": "ipython",
    "version": 3
   },
   "file_extension": ".py",
   "mimetype": "text/x-python",
   "name": "python",
   "nbconvert_exporter": "python",
   "pygments_lexer": "ipython3",
   "version": "3.8.5-final"
  },
  "orig_nbformat": 2,
  "kernelspec": {
   "name": "python3",
   "display_name": "Python 3.8.5 64-bit ('base': conda)",
   "metadata": {
    "interpreter": {
     "hash": "344443636c3027c5042750c9c609acdda283a9c43681b128a8c1053e7ad2aa7d"
    }
   }
  }
 },
 "nbformat": 4,
 "nbformat_minor": 2,
 "cells": [
  {
   "cell_type": "code",
   "execution_count": 1,
   "metadata": {},
   "outputs": [],
   "source": [
    "## VacationPy"
   ]
  },
  {
   "cell_type": "code",
   "execution_count": 2,
   "metadata": {},
   "outputs": [],
   "source": [
    "# Dependencies and Setup\n",
    "import matplotlib.pyplot as plt\n",
    "import pandas as pd\n",
    "import numpy as np\n",
    "import requests\n",
    "import gmaps\n",
    "import os\n",
    "\n",
    "# Import API key\n",
    "from config import g_key"
   ]
  },
  {
   "cell_type": "code",
   "execution_count": 3,
   "metadata": {},
   "outputs": [
    {
     "output_type": "execute_result",
     "data": {
      "text/plain": [
       "     Unnamed: 0          City  Latitude  Longitude  Max Temperature  Humidity  \\\n",
       "0             0       Rikitea  -23.1203  -134.9692            77.40        72   \n",
       "1             1     Busselton  -33.6500   115.3333            71.01        70   \n",
       "2             2  San Patricio   28.0170   -97.5169            51.80        87   \n",
       "3             3   Yellowknife   62.4560  -114.3525           -23.80        76   \n",
       "4             4    Bredasdorp  -34.5322    20.0403            78.01        53   \n",
       "..          ...           ...       ...        ...              ...       ...   \n",
       "549         549          Taos   36.4072  -105.5731            24.01        79   \n",
       "550         550    Deputatsky   69.3000   139.9000           -32.67        86   \n",
       "551         551     Khon Kaen   16.5000   102.0833            74.62        48   \n",
       "552         552      Kirakira  -10.4544   161.9205            80.55        84   \n",
       "553         553        Marawi    7.9986   124.2928            80.01        83   \n",
       "\n",
       "     Cloudiness  Wind Speed Country        Date  \n",
       "0            89        4.81      PF  1611923653  \n",
       "1             0        1.99      AU  1611923653  \n",
       "2             1        6.11      US  1611923655  \n",
       "3             1        6.91      CA  1611923655  \n",
       "4             0        1.01      ZA  1611923656  \n",
       "..          ...         ...     ...         ...  \n",
       "549           1        6.91      US  1611924080  \n",
       "550         100        1.61      RU  1611924080  \n",
       "551          76        2.01      TH  1611924081  \n",
       "552         100       15.82      SB  1611924082  \n",
       "553         100        8.01      PH  1611924082  \n",
       "\n",
       "[554 rows x 10 columns]"
      ],
      "text/html": "<div>\n<style scoped>\n    .dataframe tbody tr th:only-of-type {\n        vertical-align: middle;\n    }\n\n    .dataframe tbody tr th {\n        vertical-align: top;\n    }\n\n    .dataframe thead th {\n        text-align: right;\n    }\n</style>\n<table border=\"1\" class=\"dataframe\">\n  <thead>\n    <tr style=\"text-align: right;\">\n      <th></th>\n      <th>Unnamed: 0</th>\n      <th>City</th>\n      <th>Latitude</th>\n      <th>Longitude</th>\n      <th>Max Temperature</th>\n      <th>Humidity</th>\n      <th>Cloudiness</th>\n      <th>Wind Speed</th>\n      <th>Country</th>\n      <th>Date</th>\n    </tr>\n  </thead>\n  <tbody>\n    <tr>\n      <th>0</th>\n      <td>0</td>\n      <td>Rikitea</td>\n      <td>-23.1203</td>\n      <td>-134.9692</td>\n      <td>77.40</td>\n      <td>72</td>\n      <td>89</td>\n      <td>4.81</td>\n      <td>PF</td>\n      <td>1611923653</td>\n    </tr>\n    <tr>\n      <th>1</th>\n      <td>1</td>\n      <td>Busselton</td>\n      <td>-33.6500</td>\n      <td>115.3333</td>\n      <td>71.01</td>\n      <td>70</td>\n      <td>0</td>\n      <td>1.99</td>\n      <td>AU</td>\n      <td>1611923653</td>\n    </tr>\n    <tr>\n      <th>2</th>\n      <td>2</td>\n      <td>San Patricio</td>\n      <td>28.0170</td>\n      <td>-97.5169</td>\n      <td>51.80</td>\n      <td>87</td>\n      <td>1</td>\n      <td>6.11</td>\n      <td>US</td>\n      <td>1611923655</td>\n    </tr>\n    <tr>\n      <th>3</th>\n      <td>3</td>\n      <td>Yellowknife</td>\n      <td>62.4560</td>\n      <td>-114.3525</td>\n      <td>-23.80</td>\n      <td>76</td>\n      <td>1</td>\n      <td>6.91</td>\n      <td>CA</td>\n      <td>1611923655</td>\n    </tr>\n    <tr>\n      <th>4</th>\n      <td>4</td>\n      <td>Bredasdorp</td>\n      <td>-34.5322</td>\n      <td>20.0403</td>\n      <td>78.01</td>\n      <td>53</td>\n      <td>0</td>\n      <td>1.01</td>\n      <td>ZA</td>\n      <td>1611923656</td>\n    </tr>\n    <tr>\n      <th>...</th>\n      <td>...</td>\n      <td>...</td>\n      <td>...</td>\n      <td>...</td>\n      <td>...</td>\n      <td>...</td>\n      <td>...</td>\n      <td>...</td>\n      <td>...</td>\n      <td>...</td>\n    </tr>\n    <tr>\n      <th>549</th>\n      <td>549</td>\n      <td>Taos</td>\n      <td>36.4072</td>\n      <td>-105.5731</td>\n      <td>24.01</td>\n      <td>79</td>\n      <td>1</td>\n      <td>6.91</td>\n      <td>US</td>\n      <td>1611924080</td>\n    </tr>\n    <tr>\n      <th>550</th>\n      <td>550</td>\n      <td>Deputatsky</td>\n      <td>69.3000</td>\n      <td>139.9000</td>\n      <td>-32.67</td>\n      <td>86</td>\n      <td>100</td>\n      <td>1.61</td>\n      <td>RU</td>\n      <td>1611924080</td>\n    </tr>\n    <tr>\n      <th>551</th>\n      <td>551</td>\n      <td>Khon Kaen</td>\n      <td>16.5000</td>\n      <td>102.0833</td>\n      <td>74.62</td>\n      <td>48</td>\n      <td>76</td>\n      <td>2.01</td>\n      <td>TH</td>\n      <td>1611924081</td>\n    </tr>\n    <tr>\n      <th>552</th>\n      <td>552</td>\n      <td>Kirakira</td>\n      <td>-10.4544</td>\n      <td>161.9205</td>\n      <td>80.55</td>\n      <td>84</td>\n      <td>100</td>\n      <td>15.82</td>\n      <td>SB</td>\n      <td>1611924082</td>\n    </tr>\n    <tr>\n      <th>553</th>\n      <td>553</td>\n      <td>Marawi</td>\n      <td>7.9986</td>\n      <td>124.2928</td>\n      <td>80.01</td>\n      <td>83</td>\n      <td>100</td>\n      <td>8.01</td>\n      <td>PH</td>\n      <td>1611924082</td>\n    </tr>\n  </tbody>\n</table>\n<p>554 rows × 10 columns</p>\n</div>"
     },
     "metadata": {},
     "execution_count": 3
    }
   ],
   "source": [
    "cities_df = pd.read_csv(\"../Resources/WeatherPyCities.csv\")\n",
    "cities_df"
   ]
  },
  {
   "cell_type": "code",
   "execution_count": 4,
   "metadata": {},
   "outputs": [
    {
     "output_type": "execute_result",
     "data": {
      "text/plain": [
       "             City  Latitude  Longitude  Max Temperature  Humidity  Cloudiness  \\\n",
       "0         Rikitea  -23.1203  -134.9692            77.40        72          89   \n",
       "1       Busselton  -33.6500   115.3333            71.01        70           0   \n",
       "2    San Patricio   28.0170   -97.5169            51.80        87           1   \n",
       "3     Yellowknife   62.4560  -114.3525           -23.80        76           1   \n",
       "4      Bredasdorp  -34.5322    20.0403            78.01        53           0   \n",
       "..            ...       ...        ...              ...       ...         ...   \n",
       "549          Taos   36.4072  -105.5731            24.01        79           1   \n",
       "550    Deputatsky   69.3000   139.9000           -32.67        86         100   \n",
       "551     Khon Kaen   16.5000   102.0833            74.62        48          76   \n",
       "552      Kirakira  -10.4544   161.9205            80.55        84         100   \n",
       "553        Marawi    7.9986   124.2928            80.01        83         100   \n",
       "\n",
       "     Wind Speed Country        Date  \n",
       "0          4.81      PF  1611923653  \n",
       "1          1.99      AU  1611923653  \n",
       "2          6.11      US  1611923655  \n",
       "3          6.91      CA  1611923655  \n",
       "4          1.01      ZA  1611923656  \n",
       "..          ...     ...         ...  \n",
       "549        6.91      US  1611924080  \n",
       "550        1.61      RU  1611924080  \n",
       "551        2.01      TH  1611924081  \n",
       "552       15.82      SB  1611924082  \n",
       "553        8.01      PH  1611924082  \n",
       "\n",
       "[554 rows x 9 columns]"
      ],
      "text/html": "<div>\n<style scoped>\n    .dataframe tbody tr th:only-of-type {\n        vertical-align: middle;\n    }\n\n    .dataframe tbody tr th {\n        vertical-align: top;\n    }\n\n    .dataframe thead th {\n        text-align: right;\n    }\n</style>\n<table border=\"1\" class=\"dataframe\">\n  <thead>\n    <tr style=\"text-align: right;\">\n      <th></th>\n      <th>City</th>\n      <th>Latitude</th>\n      <th>Longitude</th>\n      <th>Max Temperature</th>\n      <th>Humidity</th>\n      <th>Cloudiness</th>\n      <th>Wind Speed</th>\n      <th>Country</th>\n      <th>Date</th>\n    </tr>\n  </thead>\n  <tbody>\n    <tr>\n      <th>0</th>\n      <td>Rikitea</td>\n      <td>-23.1203</td>\n      <td>-134.9692</td>\n      <td>77.40</td>\n      <td>72</td>\n      <td>89</td>\n      <td>4.81</td>\n      <td>PF</td>\n      <td>1611923653</td>\n    </tr>\n    <tr>\n      <th>1</th>\n      <td>Busselton</td>\n      <td>-33.6500</td>\n      <td>115.3333</td>\n      <td>71.01</td>\n      <td>70</td>\n      <td>0</td>\n      <td>1.99</td>\n      <td>AU</td>\n      <td>1611923653</td>\n    </tr>\n    <tr>\n      <th>2</th>\n      <td>San Patricio</td>\n      <td>28.0170</td>\n      <td>-97.5169</td>\n      <td>51.80</td>\n      <td>87</td>\n      <td>1</td>\n      <td>6.11</td>\n      <td>US</td>\n      <td>1611923655</td>\n    </tr>\n    <tr>\n      <th>3</th>\n      <td>Yellowknife</td>\n      <td>62.4560</td>\n      <td>-114.3525</td>\n      <td>-23.80</td>\n      <td>76</td>\n      <td>1</td>\n      <td>6.91</td>\n      <td>CA</td>\n      <td>1611923655</td>\n    </tr>\n    <tr>\n      <th>4</th>\n      <td>Bredasdorp</td>\n      <td>-34.5322</td>\n      <td>20.0403</td>\n      <td>78.01</td>\n      <td>53</td>\n      <td>0</td>\n      <td>1.01</td>\n      <td>ZA</td>\n      <td>1611923656</td>\n    </tr>\n    <tr>\n      <th>...</th>\n      <td>...</td>\n      <td>...</td>\n      <td>...</td>\n      <td>...</td>\n      <td>...</td>\n      <td>...</td>\n      <td>...</td>\n      <td>...</td>\n      <td>...</td>\n    </tr>\n    <tr>\n      <th>549</th>\n      <td>Taos</td>\n      <td>36.4072</td>\n      <td>-105.5731</td>\n      <td>24.01</td>\n      <td>79</td>\n      <td>1</td>\n      <td>6.91</td>\n      <td>US</td>\n      <td>1611924080</td>\n    </tr>\n    <tr>\n      <th>550</th>\n      <td>Deputatsky</td>\n      <td>69.3000</td>\n      <td>139.9000</td>\n      <td>-32.67</td>\n      <td>86</td>\n      <td>100</td>\n      <td>1.61</td>\n      <td>RU</td>\n      <td>1611924080</td>\n    </tr>\n    <tr>\n      <th>551</th>\n      <td>Khon Kaen</td>\n      <td>16.5000</td>\n      <td>102.0833</td>\n      <td>74.62</td>\n      <td>48</td>\n      <td>76</td>\n      <td>2.01</td>\n      <td>TH</td>\n      <td>1611924081</td>\n    </tr>\n    <tr>\n      <th>552</th>\n      <td>Kirakira</td>\n      <td>-10.4544</td>\n      <td>161.9205</td>\n      <td>80.55</td>\n      <td>84</td>\n      <td>100</td>\n      <td>15.82</td>\n      <td>SB</td>\n      <td>1611924082</td>\n    </tr>\n    <tr>\n      <th>553</th>\n      <td>Marawi</td>\n      <td>7.9986</td>\n      <td>124.2928</td>\n      <td>80.01</td>\n      <td>83</td>\n      <td>100</td>\n      <td>8.01</td>\n      <td>PH</td>\n      <td>1611924082</td>\n    </tr>\n  </tbody>\n</table>\n<p>554 rows × 9 columns</p>\n</div>"
     },
     "metadata": {},
     "execution_count": 4
    }
   ],
   "source": [
    "del cities_df[\"Unnamed: 0\"]\n",
    "cities_df"
   ]
  },
  {
   "cell_type": "code",
   "execution_count": 5,
   "metadata": {},
   "outputs": [
    {
     "output_type": "execute_result",
     "data": {
      "text/plain": [
       "City               554\n",
       "Latitude           554\n",
       "Longitude          554\n",
       "Max Temperature    554\n",
       "Humidity           554\n",
       "Cloudiness         554\n",
       "Wind Speed         554\n",
       "Country            549\n",
       "Date               554\n",
       "dtype: int64"
      ]
     },
     "metadata": {},
     "execution_count": 5
    }
   ],
   "source": [
    "cities_df.count()"
   ]
  },
  {
   "cell_type": "code",
   "execution_count": 6,
   "metadata": {},
   "outputs": [],
   "source": [
    "cities_df.dropna(subset= [\"Country\"], inplace=True)"
   ]
  },
  {
   "cell_type": "code",
   "execution_count": 7,
   "metadata": {},
   "outputs": [
    {
     "output_type": "execute_result",
     "data": {
      "text/plain": [
       "City               549\n",
       "Latitude           549\n",
       "Longitude          549\n",
       "Max Temperature    549\n",
       "Humidity           549\n",
       "Cloudiness         549\n",
       "Wind Speed         549\n",
       "Country            549\n",
       "Date               549\n",
       "dtype: int64"
      ]
     },
     "metadata": {},
     "execution_count": 7
    }
   ],
   "source": [
    "cities_df.count()"
   ]
  },
  {
   "cell_type": "code",
   "execution_count": 8,
   "metadata": {},
   "outputs": [
    {
     "output_type": "display_data",
     "data": {
      "text/plain": "<Figure size 432x288 with 0 Axes>"
     },
     "metadata": {}
    }
   ],
   "source": [
    "## Humidity HeatMap\n",
    "# Configure gmaps\n",
    "gmaps.configure(api_key=g_key)\n",
    "\n",
    "# Use lat and lng as locations and humidity as weight\n",
    "locations = cities_df[[\"Latitude\", \"Longitude\"]].astype(float)\n",
    "humidity = cities_df[\"Humidity\"].astype(float)\n",
    "\n",
    "# Add heatmap layer to map\n",
    "figure = gmaps.figure()\n",
    "heat_layer = gmaps.heatmap_layer(locations, weights= humidity, dissipating=False, max_intensity=100, point_radius=1)\n",
    "figure.add_layer(heat_layer)\n",
    "plt.savefig(\"../Figures/Heat_Map.png\")"
   ]
  },
  {
   "cell_type": "code",
   "execution_count": 9,
   "metadata": {},
   "outputs": [
    {
     "output_type": "display_data",
     "data": {
      "text/plain": "Figure(layout=FigureLayout(height='420px'))",
      "application/vnd.jupyter.widget-view+json": {
       "version_major": 2,
       "version_minor": 0,
       "model_id": "22c36106a705407697301815194e87e1"
      }
     },
     "metadata": {}
    }
   ],
   "source": [
    "figure"
   ]
  },
  {
   "cell_type": "code",
   "execution_count": 27,
   "metadata": {},
   "outputs": [
    {
     "output_type": "execute_result",
     "data": {
      "text/plain": [
       "            City  Latitude  Longitude  Max Temperature  Humidity  Cloudiness  \\\n",
       "24         Kidal   18.4411     1.4078            83.28        13           0   \n",
       "35        Riyadh   24.6877    46.7219            82.40        16           0   \n",
       "204        Perth  -31.9333   115.8333            84.20        17           0   \n",
       "299   Wad Medani   14.4012    33.5199            93.38         9           0   \n",
       "313  Tambacounda   13.7539   -13.7586            93.20        10           0   \n",
       "330       Sapouy   11.5544    -1.7736            96.12         9           0   \n",
       "416        Adrar   20.5022   -10.0711            82.08        15           0   \n",
       "419       Boussé   12.6606    -1.8922            91.40         9           0   \n",
       "420     Tessalit   20.1986     1.0114            83.17        12           0   \n",
       "426       Ayorou   14.7308     0.9174            92.14        10           0   \n",
       "487       Ndioum   16.5129   -14.6471            89.60        15           0   \n",
       "509    Taoudenni   22.6783    -3.9836            86.77        13           0   \n",
       "512       Kindia   10.0569   -12.8658            94.42        16           0   \n",
       "548    Colesberg  -30.7200    25.0972            83.89        18           0   \n",
       "\n",
       "     Wind Speed Country        Date  \n",
       "24        15.23      ML  1611923672  \n",
       "35         9.22      SA  1611923679  \n",
       "204       10.36      AU  1611923659  \n",
       "299       19.44      SD  1611923900  \n",
       "313       11.50      SN  1611923909  \n",
       "330       11.97      BF  1611923921  \n",
       "416       16.53      MR  1611923988  \n",
       "419       12.66      BF  1611923989  \n",
       "420       15.48      ML  1611923990  \n",
       "426       17.58      NE  1611923994  \n",
       "487        4.61      SN  1611924038  \n",
       "509       10.00      ML  1611924053  \n",
       "512        4.25      GN  1611924055  \n",
       "548        6.31      ZA  1611924079  "
      ],
      "text/html": "<div>\n<style scoped>\n    .dataframe tbody tr th:only-of-type {\n        vertical-align: middle;\n    }\n\n    .dataframe tbody tr th {\n        vertical-align: top;\n    }\n\n    .dataframe thead th {\n        text-align: right;\n    }\n</style>\n<table border=\"1\" class=\"dataframe\">\n  <thead>\n    <tr style=\"text-align: right;\">\n      <th></th>\n      <th>City</th>\n      <th>Latitude</th>\n      <th>Longitude</th>\n      <th>Max Temperature</th>\n      <th>Humidity</th>\n      <th>Cloudiness</th>\n      <th>Wind Speed</th>\n      <th>Country</th>\n      <th>Date</th>\n    </tr>\n  </thead>\n  <tbody>\n    <tr>\n      <th>24</th>\n      <td>Kidal</td>\n      <td>18.4411</td>\n      <td>1.4078</td>\n      <td>83.28</td>\n      <td>13</td>\n      <td>0</td>\n      <td>15.23</td>\n      <td>ML</td>\n      <td>1611923672</td>\n    </tr>\n    <tr>\n      <th>35</th>\n      <td>Riyadh</td>\n      <td>24.6877</td>\n      <td>46.7219</td>\n      <td>82.40</td>\n      <td>16</td>\n      <td>0</td>\n      <td>9.22</td>\n      <td>SA</td>\n      <td>1611923679</td>\n    </tr>\n    <tr>\n      <th>204</th>\n      <td>Perth</td>\n      <td>-31.9333</td>\n      <td>115.8333</td>\n      <td>84.20</td>\n      <td>17</td>\n      <td>0</td>\n      <td>10.36</td>\n      <td>AU</td>\n      <td>1611923659</td>\n    </tr>\n    <tr>\n      <th>299</th>\n      <td>Wad Medani</td>\n      <td>14.4012</td>\n      <td>33.5199</td>\n      <td>93.38</td>\n      <td>9</td>\n      <td>0</td>\n      <td>19.44</td>\n      <td>SD</td>\n      <td>1611923900</td>\n    </tr>\n    <tr>\n      <th>313</th>\n      <td>Tambacounda</td>\n      <td>13.7539</td>\n      <td>-13.7586</td>\n      <td>93.20</td>\n      <td>10</td>\n      <td>0</td>\n      <td>11.50</td>\n      <td>SN</td>\n      <td>1611923909</td>\n    </tr>\n    <tr>\n      <th>330</th>\n      <td>Sapouy</td>\n      <td>11.5544</td>\n      <td>-1.7736</td>\n      <td>96.12</td>\n      <td>9</td>\n      <td>0</td>\n      <td>11.97</td>\n      <td>BF</td>\n      <td>1611923921</td>\n    </tr>\n    <tr>\n      <th>416</th>\n      <td>Adrar</td>\n      <td>20.5022</td>\n      <td>-10.0711</td>\n      <td>82.08</td>\n      <td>15</td>\n      <td>0</td>\n      <td>16.53</td>\n      <td>MR</td>\n      <td>1611923988</td>\n    </tr>\n    <tr>\n      <th>419</th>\n      <td>Boussé</td>\n      <td>12.6606</td>\n      <td>-1.8922</td>\n      <td>91.40</td>\n      <td>9</td>\n      <td>0</td>\n      <td>12.66</td>\n      <td>BF</td>\n      <td>1611923989</td>\n    </tr>\n    <tr>\n      <th>420</th>\n      <td>Tessalit</td>\n      <td>20.1986</td>\n      <td>1.0114</td>\n      <td>83.17</td>\n      <td>12</td>\n      <td>0</td>\n      <td>15.48</td>\n      <td>ML</td>\n      <td>1611923990</td>\n    </tr>\n    <tr>\n      <th>426</th>\n      <td>Ayorou</td>\n      <td>14.7308</td>\n      <td>0.9174</td>\n      <td>92.14</td>\n      <td>10</td>\n      <td>0</td>\n      <td>17.58</td>\n      <td>NE</td>\n      <td>1611923994</td>\n    </tr>\n    <tr>\n      <th>487</th>\n      <td>Ndioum</td>\n      <td>16.5129</td>\n      <td>-14.6471</td>\n      <td>89.60</td>\n      <td>15</td>\n      <td>0</td>\n      <td>4.61</td>\n      <td>SN</td>\n      <td>1611924038</td>\n    </tr>\n    <tr>\n      <th>509</th>\n      <td>Taoudenni</td>\n      <td>22.6783</td>\n      <td>-3.9836</td>\n      <td>86.77</td>\n      <td>13</td>\n      <td>0</td>\n      <td>10.00</td>\n      <td>ML</td>\n      <td>1611924053</td>\n    </tr>\n    <tr>\n      <th>512</th>\n      <td>Kindia</td>\n      <td>10.0569</td>\n      <td>-12.8658</td>\n      <td>94.42</td>\n      <td>16</td>\n      <td>0</td>\n      <td>4.25</td>\n      <td>GN</td>\n      <td>1611924055</td>\n    </tr>\n    <tr>\n      <th>548</th>\n      <td>Colesberg</td>\n      <td>-30.7200</td>\n      <td>25.0972</td>\n      <td>83.89</td>\n      <td>18</td>\n      <td>0</td>\n      <td>6.31</td>\n      <td>ZA</td>\n      <td>1611924079</td>\n    </tr>\n  </tbody>\n</table>\n</div>"
     },
     "metadata": {},
     "execution_count": 27
    }
   ],
   "source": [
    "## Weather Criteria DataFrame\n",
    "ideal_conditions_df = cities_df.loc[(cities_df[\"Max Temperature\"]>80)&(cities_df[\"Max Temperature\"]<100)&(cities_df[\"Humidity\"]<20)&(cities_df[\"Cloudiness\"]==0)&(cities_df[\"Wind Speed\"]<20)]\n",
    "ideal_conditions_df"
   ]
  },
  {
   "cell_type": "code",
   "execution_count": 41,
   "metadata": {},
   "outputs": [
    {
     "output_type": "stream",
     "name": "stdout",
     "text": [
      "Retrieving results for index 24: Kidal.\n",
      "No hotel within 5000 metres.\n",
      "Retrieving results for index 35: Riyadh.\n",
      "Closest hotel in Riyadh is voco Riyadh.\n",
      "Retrieving results for index 204: Perth.\n",
      "Closest hotel in Perth is DoubleTree by Hilton Perth Northbridge.\n",
      "Retrieving results for index 299: Wad Medani.\n",
      "Closest hotel in Wad Medani is Imperial Wad Medani Hotel.\n",
      "Retrieving results for index 313: Tambacounda.\n",
      "No hotel within 5000 metres.\n",
      "Retrieving results for index 330: Sapouy.\n",
      "Closest hotel in Sapouy is Auberge St Louis.\n",
      "Retrieving results for index 416: Adrar.\n",
      "No hotel within 5000 metres.\n",
      "Retrieving results for index 419: Boussé.\n",
      "No hotel within 5000 metres.\n",
      "Retrieving results for index 420: Tessalit.\n",
      "No hotel within 5000 metres.\n",
      "Retrieving results for index 426: Ayorou.\n",
      "Closest hotel in Ayorou is Hotel Amenokal.\n",
      "Retrieving results for index 487: Ndioum.\n",
      "Closest hotel in Ndioum is Mbathior Hôtel.\n",
      "Retrieving results for index 509: Taoudenni.\n",
      "No hotel within 5000 metres.\n",
      "Retrieving results for index 512: Kindia.\n",
      "Closest hotel in Kindia is Hotel 3 avril.\n",
      "Retrieving results for index 548: Colesberg.\n",
      "Closest hotel in Colesberg is Colesberg Lodge.\n"
     ]
    }
   ],
   "source": [
    "## Hotel Map\n",
    "# Store into variable named hotel_df\n",
    "hotel_df = ideal_conditions_df[[\"City\", \"Country\", \"Latitude\", \"Longitude\", \"Max Temperature\"]]\n",
    "\n",
    "# Add \"Hotel Name\" column\n",
    "hotel_df[\"Hotel Name\"] = \"\"\n",
    "\n",
    "# Set parameters to search for hotels within 5000 metres\n",
    "params = {\"type\" : \"hotel\", \"keyword\" : \"hotel\", \"radius\" : 5000, \"key\" : g_key}\n",
    "\n",
    "# Set base url\n",
    "base_url = \"https://maps.googleapis.com/maps/api/place/nearbysearch/json\"\n",
    "\n",
    "# Loop through DataFrame and retrieve data from API\n",
    "for index, row in hotel_df.iterrows():\n",
    "    latitude = row[\"Latitude\"]\n",
    "    longitude = row[\"Longitude\"]\n",
    "    city_name = row[\"City\"]\n",
    "    params[\"location\"] = f\"{latitude},{longitude}\"\n",
    "\n",
    "    print(f\"Retrieving results for index {index}: {city_name}.\")\n",
    "    response = requests.get(base_url, params=params).json()\n",
    "\n",
    "    results = response[\"results\"]\n",
    "\n",
    "    try:\n",
    "        print(f\"Closest hotel in {city_name} is {results[0]['name']}.\")\n",
    "        hotel_df.loc[index, \"Hotel Name\"] = results[0]['name']\n",
    "\n",
    "    except (KeyError, IndexError):\n",
    "        print(\"No hotel within 5000 metres.\")\n",
    "\n",
    "\n"
   ]
  },
  {
   "cell_type": "code",
   "execution_count": 42,
   "metadata": {},
   "outputs": [
    {
     "output_type": "execute_result",
     "data": {
      "text/plain": [
       "            City Country  Latitude  Longitude  Max Temperature  \\\n",
       "24         Kidal      ML   18.4411     1.4078            83.28   \n",
       "35        Riyadh      SA   24.6877    46.7219            82.40   \n",
       "204        Perth      AU  -31.9333   115.8333            84.20   \n",
       "299   Wad Medani      SD   14.4012    33.5199            93.38   \n",
       "313  Tambacounda      SN   13.7539   -13.7586            93.20   \n",
       "330       Sapouy      BF   11.5544    -1.7736            96.12   \n",
       "416        Adrar      MR   20.5022   -10.0711            82.08   \n",
       "419       Boussé      BF   12.6606    -1.8922            91.40   \n",
       "420     Tessalit      ML   20.1986     1.0114            83.17   \n",
       "426       Ayorou      NE   14.7308     0.9174            92.14   \n",
       "487       Ndioum      SN   16.5129   -14.6471            89.60   \n",
       "509    Taoudenni      ML   22.6783    -3.9836            86.77   \n",
       "512       Kindia      GN   10.0569   -12.8658            94.42   \n",
       "548    Colesberg      ZA  -30.7200    25.0972            83.89   \n",
       "\n",
       "                                 Hotel Name  \n",
       "24                                           \n",
       "35                              voco Riyadh  \n",
       "204  DoubleTree by Hilton Perth Northbridge  \n",
       "299               Imperial Wad Medani Hotel  \n",
       "313                                          \n",
       "330                        Auberge St Louis  \n",
       "416                                          \n",
       "419                                          \n",
       "420                                          \n",
       "426                          Hotel Amenokal  \n",
       "487                          Mbathior Hôtel  \n",
       "509                                          \n",
       "512                           Hotel 3 avril  \n",
       "548                         Colesberg Lodge  "
      ],
      "text/html": "<div>\n<style scoped>\n    .dataframe tbody tr th:only-of-type {\n        vertical-align: middle;\n    }\n\n    .dataframe tbody tr th {\n        vertical-align: top;\n    }\n\n    .dataframe thead th {\n        text-align: right;\n    }\n</style>\n<table border=\"1\" class=\"dataframe\">\n  <thead>\n    <tr style=\"text-align: right;\">\n      <th></th>\n      <th>City</th>\n      <th>Country</th>\n      <th>Latitude</th>\n      <th>Longitude</th>\n      <th>Max Temperature</th>\n      <th>Hotel Name</th>\n    </tr>\n  </thead>\n  <tbody>\n    <tr>\n      <th>24</th>\n      <td>Kidal</td>\n      <td>ML</td>\n      <td>18.4411</td>\n      <td>1.4078</td>\n      <td>83.28</td>\n      <td></td>\n    </tr>\n    <tr>\n      <th>35</th>\n      <td>Riyadh</td>\n      <td>SA</td>\n      <td>24.6877</td>\n      <td>46.7219</td>\n      <td>82.40</td>\n      <td>voco Riyadh</td>\n    </tr>\n    <tr>\n      <th>204</th>\n      <td>Perth</td>\n      <td>AU</td>\n      <td>-31.9333</td>\n      <td>115.8333</td>\n      <td>84.20</td>\n      <td>DoubleTree by Hilton Perth Northbridge</td>\n    </tr>\n    <tr>\n      <th>299</th>\n      <td>Wad Medani</td>\n      <td>SD</td>\n      <td>14.4012</td>\n      <td>33.5199</td>\n      <td>93.38</td>\n      <td>Imperial Wad Medani Hotel</td>\n    </tr>\n    <tr>\n      <th>313</th>\n      <td>Tambacounda</td>\n      <td>SN</td>\n      <td>13.7539</td>\n      <td>-13.7586</td>\n      <td>93.20</td>\n      <td></td>\n    </tr>\n    <tr>\n      <th>330</th>\n      <td>Sapouy</td>\n      <td>BF</td>\n      <td>11.5544</td>\n      <td>-1.7736</td>\n      <td>96.12</td>\n      <td>Auberge St Louis</td>\n    </tr>\n    <tr>\n      <th>416</th>\n      <td>Adrar</td>\n      <td>MR</td>\n      <td>20.5022</td>\n      <td>-10.0711</td>\n      <td>82.08</td>\n      <td></td>\n    </tr>\n    <tr>\n      <th>419</th>\n      <td>Boussé</td>\n      <td>BF</td>\n      <td>12.6606</td>\n      <td>-1.8922</td>\n      <td>91.40</td>\n      <td></td>\n    </tr>\n    <tr>\n      <th>420</th>\n      <td>Tessalit</td>\n      <td>ML</td>\n      <td>20.1986</td>\n      <td>1.0114</td>\n      <td>83.17</td>\n      <td></td>\n    </tr>\n    <tr>\n      <th>426</th>\n      <td>Ayorou</td>\n      <td>NE</td>\n      <td>14.7308</td>\n      <td>0.9174</td>\n      <td>92.14</td>\n      <td>Hotel Amenokal</td>\n    </tr>\n    <tr>\n      <th>487</th>\n      <td>Ndioum</td>\n      <td>SN</td>\n      <td>16.5129</td>\n      <td>-14.6471</td>\n      <td>89.60</td>\n      <td>Mbathior Hôtel</td>\n    </tr>\n    <tr>\n      <th>509</th>\n      <td>Taoudenni</td>\n      <td>ML</td>\n      <td>22.6783</td>\n      <td>-3.9836</td>\n      <td>86.77</td>\n      <td></td>\n    </tr>\n    <tr>\n      <th>512</th>\n      <td>Kindia</td>\n      <td>GN</td>\n      <td>10.0569</td>\n      <td>-12.8658</td>\n      <td>94.42</td>\n      <td>Hotel 3 avril</td>\n    </tr>\n    <tr>\n      <th>548</th>\n      <td>Colesberg</td>\n      <td>ZA</td>\n      <td>-30.7200</td>\n      <td>25.0972</td>\n      <td>83.89</td>\n      <td>Colesberg Lodge</td>\n    </tr>\n  </tbody>\n</table>\n</div>"
     },
     "metadata": {},
     "execution_count": 42
    }
   ],
   "source": [
    "# Display figure\n",
    "hotel_df"
   ]
  },
  {
   "cell_type": "code",
   "execution_count": 43,
   "metadata": {},
   "outputs": [],
   "source": [
    "\n",
    "# Using the template add the hotel marks to the heatmap\n",
    "info_box_template = \"\"\"\n",
    "<dl>\n",
    "<dt>Name</dt><dd>{Hotel Name}</dd>\n",
    "<dt>City</dt><dd>{City}</dd>\n",
    "<dt>Country</dt><dd>{Country}</dd>\n",
    "</dl>\n",
    "\"\"\"\n",
    "\n",
    "# Store the DataFrame Row\n",
    "hotel_info = [info_box_template.format(**row) for index, row in hotel_df.iterrows()]\n",
    "hotel_df[\"Latitude\"] = hotel_df[\"Latitude\"].astype(float)\n",
    "hotel_df[\"Longitude\"] = hotel_df[\"Longitude\"].astype(float)\n",
    "locations = hotel_df[[\"Latitude\", \"Longitude\"]]\n"
   ]
  },
  {
   "cell_type": "code",
   "execution_count": 44,
   "metadata": {},
   "outputs": [
    {
     "output_type": "execute_result",
     "data": {
      "text/plain": [
       "Latitude     float64\n",
       "Longitude    float64\n",
       "dtype: object"
      ]
     },
     "metadata": {},
     "execution_count": 44
    }
   ],
   "source": [
    "locations.dtypes"
   ]
  },
  {
   "cell_type": "code",
   "execution_count": 45,
   "metadata": {},
   "outputs": [
    {
     "output_type": "display_data",
     "data": {
      "text/plain": "<Figure size 432x288 with 0 Axes>"
     },
     "metadata": {}
    }
   ],
   "source": [
    "hotel_markers = gmaps.marker_layer(locations, info_box_content=hotel_info)\n",
    "figure = gmaps.figure()\n",
    "figure.add_layer(hotel_markers)\n",
    "figure.add_layer(heat_layer)\n",
    "plt.savefig(\"../Figures/Hotel_Map\")"
   ]
  },
  {
   "cell_type": "code",
   "execution_count": 46,
   "metadata": {},
   "outputs": [
    {
     "output_type": "display_data",
     "data": {
      "text/plain": "Figure(layout=FigureLayout(height='420px'))",
      "application/vnd.jupyter.widget-view+json": {
       "version_major": 2,
       "version_minor": 0,
       "model_id": "36d3c94cca9a4c7eab1065e01d6b83d5"
      }
     },
     "metadata": {}
    }
   ],
   "source": [
    "figure"
   ]
  },
  {
   "cell_type": "code",
   "execution_count": null,
   "metadata": {},
   "outputs": [],
   "source": []
  }
 ]
}